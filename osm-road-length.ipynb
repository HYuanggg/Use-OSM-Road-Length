{
 "cells": [
  {
   "cell_type": "code",
   "execution_count": 1,
   "metadata": {
    "ExecuteTime": {
     "end_time": "2020-09-07T09:14:12.642952Z",
     "start_time": "2020-09-07T09:14:09.840988Z"
    }
   },
   "outputs": [],
   "source": [
    "import osm_road_length\n",
    "from shapely import wkt\n",
    "import shapefile\n",
    "from matplotlib import pyplot as plt\n",
    "import re\n",
    "\n",
    "from OSMPythonTools.nominatim import Nominatim\n",
    "import osm_road_length_yuan_huang"
   ]
  },
  {
   "cell_type": "markdown",
   "metadata": {},
   "source": [
    "# Geometry: use coordinates to define an area and get road length infomation inside the area"
   ]
  },
  {
   "cell_type": "code",
   "execution_count": null,
   "metadata": {},
   "outputs": [],
   "source": [
    "geometry = wkt.loads('POLYGON((-43.2958811591311 -22.853167273541693,-43.30961406928735 -23.035275736044728,-43.115980036084224 -23.02010939749927,-43.157178766552974 -22.832917893834313,-43.2958811591311 -22.853167273541693))')\n",
    "# need to be clock-order?????\n",
    "length = osm_road_length.get(geometry)"
   ]
  },
  {
   "cell_type": "code",
   "execution_count": 2,
   "metadata": {
    "ExecuteTime": {
     "end_time": "2020-09-04T13:02:53.000523Z",
     "start_time": "2020-09-04T13:02:52.980420Z"
    },
    "scrolled": false
   },
   "outputs": [
    {
     "data": {
      "text/html": [
       "<div>\n",
       "<style scoped>\n",
       "    .dataframe tbody tr th:only-of-type {\n",
       "        vertical-align: middle;\n",
       "    }\n",
       "\n",
       "    .dataframe tbody tr th {\n",
       "        vertical-align: top;\n",
       "    }\n",
       "\n",
       "    .dataframe thead th {\n",
       "        text-align: right;\n",
       "    }\n",
       "</style>\n",
       "<table border=\"1\" class=\"dataframe\">\n",
       "  <thead>\n",
       "    <tr style=\"text-align: right;\">\n",
       "      <th></th>\n",
       "      <th>count</th>\n",
       "      <th>length</th>\n",
       "    </tr>\n",
       "    <tr>\n",
       "      <th>highway</th>\n",
       "      <th></th>\n",
       "      <th></th>\n",
       "    </tr>\n",
       "  </thead>\n",
       "  <tbody>\n",
       "    <tr>\n",
       "      <th>construction</th>\n",
       "      <td>5</td>\n",
       "      <td>2005.855</td>\n",
       "    </tr>\n",
       "    <tr>\n",
       "      <th>corridor</th>\n",
       "      <td>1</td>\n",
       "      <td>52.455</td>\n",
       "    </tr>\n",
       "    <tr>\n",
       "      <th>cycleway</th>\n",
       "      <td>116</td>\n",
       "      <td>65159.395</td>\n",
       "    </tr>\n",
       "    <tr>\n",
       "      <th>footway</th>\n",
       "      <td>2907</td>\n",
       "      <td>220007.493</td>\n",
       "    </tr>\n",
       "    <tr>\n",
       "      <th>living_street</th>\n",
       "      <td>512</td>\n",
       "      <td>64929.407</td>\n",
       "    </tr>\n",
       "    <tr>\n",
       "      <th>motorway</th>\n",
       "      <td>157</td>\n",
       "      <td>83388.788</td>\n",
       "    </tr>\n",
       "    <tr>\n",
       "      <th>motorway_link</th>\n",
       "      <td>183</td>\n",
       "      <td>29563.954</td>\n",
       "    </tr>\n",
       "    <tr>\n",
       "      <th>path</th>\n",
       "      <td>343</td>\n",
       "      <td>121535.351</td>\n",
       "    </tr>\n",
       "    <tr>\n",
       "      <th>pedestrian</th>\n",
       "      <td>424</td>\n",
       "      <td>60441.942</td>\n",
       "    </tr>\n",
       "    <tr>\n",
       "      <th>platform</th>\n",
       "      <td>6</td>\n",
       "      <td>913.159</td>\n",
       "    </tr>\n",
       "    <tr>\n",
       "      <th>primary</th>\n",
       "      <td>626</td>\n",
       "      <td>135395.303</td>\n",
       "    </tr>\n",
       "    <tr>\n",
       "      <th>primary_link</th>\n",
       "      <td>126</td>\n",
       "      <td>7726.597</td>\n",
       "    </tr>\n",
       "    <tr>\n",
       "      <th>proposed</th>\n",
       "      <td>2</td>\n",
       "      <td>1628.953</td>\n",
       "    </tr>\n",
       "    <tr>\n",
       "      <th>residential</th>\n",
       "      <td>4596</td>\n",
       "      <td>952517.353</td>\n",
       "    </tr>\n",
       "    <tr>\n",
       "      <th>road</th>\n",
       "      <td>2</td>\n",
       "      <td>97.509</td>\n",
       "    </tr>\n",
       "    <tr>\n",
       "      <th>secondary</th>\n",
       "      <td>878</td>\n",
       "      <td>167025.390</td>\n",
       "    </tr>\n",
       "    <tr>\n",
       "      <th>secondary_link</th>\n",
       "      <td>117</td>\n",
       "      <td>5333.567</td>\n",
       "    </tr>\n",
       "    <tr>\n",
       "      <th>service</th>\n",
       "      <td>1858</td>\n",
       "      <td>210243.516</td>\n",
       "    </tr>\n",
       "    <tr>\n",
       "      <th>services</th>\n",
       "      <td>1</td>\n",
       "      <td>123.231</td>\n",
       "    </tr>\n",
       "    <tr>\n",
       "      <th>steps</th>\n",
       "      <td>1025</td>\n",
       "      <td>47018.271</td>\n",
       "    </tr>\n",
       "    <tr>\n",
       "      <th>tertiary</th>\n",
       "      <td>1208</td>\n",
       "      <td>212483.840</td>\n",
       "    </tr>\n",
       "    <tr>\n",
       "      <th>tertiary_link</th>\n",
       "      <td>126</td>\n",
       "      <td>4866.215</td>\n",
       "    </tr>\n",
       "    <tr>\n",
       "      <th>track</th>\n",
       "      <td>18</td>\n",
       "      <td>6344.627</td>\n",
       "    </tr>\n",
       "    <tr>\n",
       "      <th>traffic_signals</th>\n",
       "      <td>1</td>\n",
       "      <td>12.275</td>\n",
       "    </tr>\n",
       "    <tr>\n",
       "      <th>trunk</th>\n",
       "      <td>496</td>\n",
       "      <td>127406.022</td>\n",
       "    </tr>\n",
       "    <tr>\n",
       "      <th>trunk_link</th>\n",
       "      <td>175</td>\n",
       "      <td>14371.081</td>\n",
       "    </tr>\n",
       "    <tr>\n",
       "      <th>unclassified</th>\n",
       "      <td>424</td>\n",
       "      <td>104438.512</td>\n",
       "    </tr>\n",
       "  </tbody>\n",
       "</table>\n",
       "</div>"
      ],
      "text/plain": [
       "                 count      length\n",
       "highway                           \n",
       "construction         5    2005.855\n",
       "corridor             1      52.455\n",
       "cycleway           116   65159.395\n",
       "footway           2907  220007.493\n",
       "living_street      512   64929.407\n",
       "motorway           157   83388.788\n",
       "motorway_link      183   29563.954\n",
       "path               343  121535.351\n",
       "pedestrian         424   60441.942\n",
       "platform             6     913.159\n",
       "primary            626  135395.303\n",
       "primary_link       126    7726.597\n",
       "proposed             2    1628.953\n",
       "residential       4596  952517.353\n",
       "road                 2      97.509\n",
       "secondary          878  167025.390\n",
       "secondary_link     117    5333.567\n",
       "service           1858  210243.516\n",
       "services             1     123.231\n",
       "steps             1025   47018.271\n",
       "tertiary          1208  212483.840\n",
       "tertiary_link      126    4866.215\n",
       "track               18    6344.627\n",
       "traffic_signals      1      12.275\n",
       "trunk              496  127406.022\n",
       "trunk_link         175   14371.081\n",
       "unclassified       424  104438.512"
      ]
     },
     "execution_count": 2,
     "metadata": {},
     "output_type": "execute_result"
    }
   ],
   "source": [
    "length"
   ]
  },
  {
   "cell_type": "code",
   "execution_count": 2,
   "metadata": {
    "ExecuteTime": {
     "end_time": "2020-09-05T07:06:58.064933Z",
     "start_time": "2020-09-05T07:06:57.859918Z"
    },
    "scrolled": true
   },
   "outputs": [
    {
     "name": "stdout",
     "output_type": "stream",
     "text": [
      "Record #1: ['AG', 'DZ', 'DZA', 12, 'Algeria', 238174, 32854159, 2, 15, 2.632, 28.163]\n"
     ]
    }
   ],
   "source": [
    "# get the coordinates defining a country\n",
    "fname = \"./TM_WORLD_BORDERS-0.3/TM_WORLD_BORDERS-0.3.shp\"\n",
    "sf = shapefile.Reader(fname,encoding='cp1252') # cp1252!!!\n",
    "shapes = sf.shapeRecords() # 246\n",
    "shape = shapes[1]\n",
    "print(shape.record)\n",
    "points = shape.shape.points"
   ]
  },
  {
   "cell_type": "code",
   "execution_count": 4,
   "metadata": {
    "ExecuteTime": {
     "end_time": "2020-09-05T07:07:42.065311Z",
     "start_time": "2020-09-05T07:07:42.059306Z"
    }
   },
   "outputs": [
    {
     "data": {
      "text/plain": [
       "'Germany'"
      ]
     },
     "execution_count": 4,
     "metadata": {},
     "output_type": "execute_result"
    }
   ],
   "source": [
    "# get the coordinates defining Gernamy\n",
    "for shape in shapes:\n",
    "    if shape.record.NAME=='Germany':\n",
    "        break\n",
    "shape.record.NAME"
   ]
  },
  {
   "cell_type": "code",
   "execution_count": 53,
   "metadata": {
    "ExecuteTime": {
     "end_time": "2020-09-04T14:25:04.278593Z",
     "start_time": "2020-09-04T14:25:01.217606Z"
    }
   },
   "outputs": [
    {
     "data": {
      "image/png": "[encoded data removed]",
      "text/plain": [
       "<Figure size 432x288 with 1 Axes>"
      ]
     },
     "metadata": {
      "needs_background": "light"
     },
     "output_type": "display_data"
    }
   ],
   "source": [
    "# check if it is Germany\n",
    "for x,y in shape.shape.points:\n",
    "    plt.plot(x,y,'b.')"
   ]
  },
  {
   "cell_type": "code",
   "execution_count": 69,
   "metadata": {
    "ExecuteTime": {
     "end_time": "2020-09-04T14:45:31.190137Z",
     "start_time": "2020-09-04T14:45:31.184153Z"
    }
   },
   "outputs": [
    {
     "data": {
      "text/plain": [
       "2157"
      ]
     },
     "execution_count": 69,
     "metadata": {},
     "output_type": "execute_result"
    }
   ],
   "source": [
    "len(shape.shape.points)"
   ]
  },
  {
   "cell_type": "code",
   "execution_count": 71,
   "metadata": {
    "ExecuteTime": {
     "end_time": "2020-09-04T14:46:10.884657Z",
     "start_time": "2020-09-04T14:46:10.880655Z"
    }
   },
   "outputs": [
    {
     "data": {
      "text/plain": [
       "(8.710255000000018, 47.696807999999976)"
      ]
     },
     "execution_count": 71,
     "metadata": {},
     "output_type": "execute_result"
    }
   ],
   "source": [
    "shape.shape.points[0]"
   ]
  },
  {
   "cell_type": "code",
   "execution_count": 5,
   "metadata": {
    "ExecuteTime": {
     "end_time": "2020-09-05T07:07:45.419788Z",
     "start_time": "2020-09-05T07:07:45.299791Z"
    },
    "scrolled": false
   },
   "outputs": [
    {
     "data": {
      "image/png": "[encoded data removed]",
      "text/plain": [
       "<Figure size 432x288 with 1 Axes>"
      ]
     },
     "metadata": {
      "needs_background": "light"
     },
     "output_type": "display_data"
    }
   ],
   "source": [
    "load_str='POLYGON(('\n",
    "cnt=0\n",
    "for x,y in shape.shape.points[50::50]:\n",
    "    if (y>51) or (x>10):\n",
    "        continue\n",
    "    cnt+=1\n",
    "    load_str+=str(x)+' '+str(y)+','\n",
    "    plt.plot(x,y,'b.')\n",
    "    plt.text(x,y,cnt)\n",
    "\n",
    "load_str+='8.8 50.0,'\n",
    "load_str+=load_str[re.search(r\"\\d\",load_str).start():re.search(',',load_str).start()]+'))'\n",
    "# it fails when using all the coordinates, so after some tries, I find the coordinates below that works"
   ]
  },
  {
   "cell_type": "code",
   "execution_count": 6,
   "metadata": {
    "ExecuteTime": {
     "end_time": "2020-09-05T07:07:50.404648Z",
     "start_time": "2020-09-05T07:07:50.395631Z"
    }
   },
   "outputs": [],
   "source": [
    "geometry = wkt.loads(load_str)"
   ]
  },
  {
   "cell_type": "code",
   "execution_count": 102,
   "metadata": {
    "ExecuteTime": {
     "end_time": "2020-09-04T16:46:42.587197Z",
     "start_time": "2020-09-04T16:44:32.438043Z"
    }
   },
   "outputs": [],
   "source": [
    "length = osm_road_length.get(geometry)"
   ]
  },
  {
   "cell_type": "code",
   "execution_count": 103,
   "metadata": {
    "ExecuteTime": {
     "end_time": "2020-09-04T16:46:45.156197Z",
     "start_time": "2020-09-04T16:46:45.143199Z"
    }
   },
   "outputs": [
    {
     "data": {
      "text/html": [
       "<div>\n",
       "<style scoped>\n",
       "    .dataframe tbody tr th:only-of-type {\n",
       "        vertical-align: middle;\n",
       "    }\n",
       "\n",
       "    .dataframe tbody tr th {\n",
       "        vertical-align: top;\n",
       "    }\n",
       "\n",
       "    .dataframe thead th {\n",
       "        text-align: right;\n",
       "    }\n",
       "</style>\n",
       "<table border=\"1\" class=\"dataframe\">\n",
       "  <thead>\n",
       "    <tr style=\"text-align: right;\">\n",
       "      <th></th>\n",
       "      <th>count</th>\n",
       "      <th>length</th>\n",
       "    </tr>\n",
       "    <tr>\n",
       "      <th>highway</th>\n",
       "      <th></th>\n",
       "      <th></th>\n",
       "    </tr>\n",
       "  </thead>\n",
       "  <tbody>\n",
       "    <tr>\n",
       "      <th>FIXME</th>\n",
       "      <td>1</td>\n",
       "      <td>1.280000e+01</td>\n",
       "    </tr>\n",
       "    <tr>\n",
       "      <th>abandoned</th>\n",
       "      <td>34</td>\n",
       "      <td>8.513382e+03</td>\n",
       "    </tr>\n",
       "    <tr>\n",
       "      <th>access</th>\n",
       "      <td>1</td>\n",
       "      <td>7.249200e+01</td>\n",
       "    </tr>\n",
       "    <tr>\n",
       "      <th>access_ramp</th>\n",
       "      <td>9</td>\n",
       "      <td>5.565060e+02</td>\n",
       "    </tr>\n",
       "    <tr>\n",
       "      <th>bridleway</th>\n",
       "      <td>418</td>\n",
       "      <td>1.665587e+05</td>\n",
       "    </tr>\n",
       "    <tr>\n",
       "      <th>bus_guideway</th>\n",
       "      <td>2</td>\n",
       "      <td>5.344000e+01</td>\n",
       "    </tr>\n",
       "    <tr>\n",
       "      <th>bus_stop</th>\n",
       "      <td>67</td>\n",
       "      <td>3.011623e+03</td>\n",
       "    </tr>\n",
       "    <tr>\n",
       "      <th>construction</th>\n",
       "      <td>938</td>\n",
       "      <td>1.646096e+05</td>\n",
       "    </tr>\n",
       "    <tr>\n",
       "      <th>construction:path</th>\n",
       "      <td>1</td>\n",
       "      <td>2.774930e+02</td>\n",
       "    </tr>\n",
       "    <tr>\n",
       "      <th>corridor</th>\n",
       "      <td>201</td>\n",
       "      <td>6.850892e+03</td>\n",
       "    </tr>\n",
       "    <tr>\n",
       "      <th>crossing</th>\n",
       "      <td>1</td>\n",
       "      <td>1.359000e+01</td>\n",
       "    </tr>\n",
       "    <tr>\n",
       "      <th>cycleway</th>\n",
       "      <td>8901</td>\n",
       "      <td>1.722030e+06</td>\n",
       "    </tr>\n",
       "    <tr>\n",
       "      <th>demolished</th>\n",
       "      <td>2</td>\n",
       "      <td>5.455300e+01</td>\n",
       "    </tr>\n",
       "    <tr>\n",
       "      <th>disused</th>\n",
       "      <td>22</td>\n",
       "      <td>1.778356e+03</td>\n",
       "    </tr>\n",
       "    <tr>\n",
       "      <th>disused:track</th>\n",
       "      <td>1</td>\n",
       "      <td>1.101800e+01</td>\n",
       "    </tr>\n",
       "    <tr>\n",
       "      <th>elevator</th>\n",
       "      <td>39</td>\n",
       "      <td>4.897650e+02</td>\n",
       "    </tr>\n",
       "    <tr>\n",
       "      <th>emergency_bay</th>\n",
       "      <td>11</td>\n",
       "      <td>5.214810e+02</td>\n",
       "    </tr>\n",
       "    <tr>\n",
       "      <th>escape</th>\n",
       "      <td>3</td>\n",
       "      <td>2.614860e+02</td>\n",
       "    </tr>\n",
       "    <tr>\n",
       "      <th>footway</th>\n",
       "      <td>152222</td>\n",
       "      <td>9.553614e+06</td>\n",
       "    </tr>\n",
       "    <tr>\n",
       "      <th>living_street</th>\n",
       "      <td>17113</td>\n",
       "      <td>1.768837e+06</td>\n",
       "    </tr>\n",
       "    <tr>\n",
       "      <th>motorway</th>\n",
       "      <td>7943</td>\n",
       "      <td>3.023000e+06</td>\n",
       "    </tr>\n",
       "    <tr>\n",
       "      <th>motorway_link</th>\n",
       "      <td>5172</td>\n",
       "      <td>7.172216e+05</td>\n",
       "    </tr>\n",
       "    <tr>\n",
       "      <th>nearby</th>\n",
       "      <td>1</td>\n",
       "      <td>1.130060e+02</td>\n",
       "    </tr>\n",
       "    <tr>\n",
       "      <th>no</th>\n",
       "      <td>19</td>\n",
       "      <td>3.915723e+03</td>\n",
       "    </tr>\n",
       "    <tr>\n",
       "      <th>parking_aisle</th>\n",
       "      <td>2</td>\n",
       "      <td>6.844800e+01</td>\n",
       "    </tr>\n",
       "    <tr>\n",
       "      <th>passing_place</th>\n",
       "      <td>5</td>\n",
       "      <td>2.060730e+02</td>\n",
       "    </tr>\n",
       "    <tr>\n",
       "      <th>path</th>\n",
       "      <td>147998</td>\n",
       "      <td>2.492647e+07</td>\n",
       "    </tr>\n",
       "    <tr>\n",
       "      <th>pedestrian</th>\n",
       "      <td>5966</td>\n",
       "      <td>6.032422e+05</td>\n",
       "    </tr>\n",
       "    <tr>\n",
       "      <th>planned</th>\n",
       "      <td>17</td>\n",
       "      <td>4.218546e+03</td>\n",
       "    </tr>\n",
       "    <tr>\n",
       "      <th>platform</th>\n",
       "      <td>1561</td>\n",
       "      <td>4.628003e+04</td>\n",
       "    </tr>\n",
       "    <tr>\n",
       "      <th>primary</th>\n",
       "      <td>26822</td>\n",
       "      <td>4.455340e+06</td>\n",
       "    </tr>\n",
       "    <tr>\n",
       "      <th>primary_link</th>\n",
       "      <td>3657</td>\n",
       "      <td>2.287191e+05</td>\n",
       "    </tr>\n",
       "    <tr>\n",
       "      <th>proposed</th>\n",
       "      <td>586</td>\n",
       "      <td>2.845851e+05</td>\n",
       "    </tr>\n",
       "    <tr>\n",
       "      <th>raceway</th>\n",
       "      <td>213</td>\n",
       "      <td>7.067601e+04</td>\n",
       "    </tr>\n",
       "    <tr>\n",
       "      <th>razed</th>\n",
       "      <td>28</td>\n",
       "      <td>4.413501e+03</td>\n",
       "    </tr>\n",
       "    <tr>\n",
       "      <th>residential</th>\n",
       "      <td>210031</td>\n",
       "      <td>3.446290e+07</td>\n",
       "    </tr>\n",
       "    <tr>\n",
       "      <th>rest_area</th>\n",
       "      <td>260</td>\n",
       "      <td>1.130476e+05</td>\n",
       "    </tr>\n",
       "    <tr>\n",
       "      <th>road</th>\n",
       "      <td>126</td>\n",
       "      <td>2.323436e+04</td>\n",
       "    </tr>\n",
       "    <tr>\n",
       "      <th>secondary</th>\n",
       "      <td>49437</td>\n",
       "      <td>1.099831e+07</td>\n",
       "    </tr>\n",
       "    <tr>\n",
       "      <th>secondary_link</th>\n",
       "      <td>2219</td>\n",
       "      <td>1.023401e+05</td>\n",
       "    </tr>\n",
       "    <tr>\n",
       "      <th>service</th>\n",
       "      <td>243212</td>\n",
       "      <td>2.195770e+07</td>\n",
       "    </tr>\n",
       "    <tr>\n",
       "      <th>services</th>\n",
       "      <td>63</td>\n",
       "      <td>5.062704e+04</td>\n",
       "    </tr>\n",
       "    <tr>\n",
       "      <th>steps</th>\n",
       "      <td>31454</td>\n",
       "      <td>4.974509e+05</td>\n",
       "    </tr>\n",
       "    <tr>\n",
       "      <th>tertiary</th>\n",
       "      <td>44144</td>\n",
       "      <td>1.152463e+07</td>\n",
       "    </tr>\n",
       "    <tr>\n",
       "      <th>tertiary_link</th>\n",
       "      <td>1171</td>\n",
       "      <td>4.886669e+04</td>\n",
       "    </tr>\n",
       "    <tr>\n",
       "      <th>track</th>\n",
       "      <td>463307</td>\n",
       "      <td>1.737959e+08</td>\n",
       "    </tr>\n",
       "    <tr>\n",
       "      <th>traffic_island</th>\n",
       "      <td>24</td>\n",
       "      <td>1.164253e+03</td>\n",
       "    </tr>\n",
       "    <tr>\n",
       "      <th>trail</th>\n",
       "      <td>3</td>\n",
       "      <td>7.566270e+02</td>\n",
       "    </tr>\n",
       "    <tr>\n",
       "      <th>trunk</th>\n",
       "      <td>5120</td>\n",
       "      <td>1.109488e+06</td>\n",
       "    </tr>\n",
       "    <tr>\n",
       "      <th>trunk_link</th>\n",
       "      <td>3453</td>\n",
       "      <td>3.464123e+05</td>\n",
       "    </tr>\n",
       "    <tr>\n",
       "      <th>turning_circle</th>\n",
       "      <td>2</td>\n",
       "      <td>3.327200e+01</td>\n",
       "    </tr>\n",
       "    <tr>\n",
       "      <th>unclassified</th>\n",
       "      <td>29494</td>\n",
       "      <td>8.239552e+06</td>\n",
       "    </tr>\n",
       "    <tr>\n",
       "      <th>via_ferrata</th>\n",
       "      <td>10</td>\n",
       "      <td>2.778110e+02</td>\n",
       "    </tr>\n",
       "    <tr>\n",
       "      <th>virtual</th>\n",
       "      <td>1</td>\n",
       "      <td>3.631400e+01</td>\n",
       "    </tr>\n",
       "    <tr>\n",
       "      <th>virtual_rail</th>\n",
       "      <td>13</td>\n",
       "      <td>4.370980e+02</td>\n",
       "    </tr>\n",
       "    <tr>\n",
       "      <th>yes</th>\n",
       "      <td>3</td>\n",
       "      <td>4.058390e+02</td>\n",
       "    </tr>\n",
       "  </tbody>\n",
       "</table>\n",
       "</div>"
      ],
      "text/plain": [
       "                    count        length\n",
       "highway                                \n",
       "FIXME                   1  1.280000e+01\n",
       "abandoned              34  8.513382e+03\n",
       "access                  1  7.249200e+01\n",
       "access_ramp             9  5.565060e+02\n",
       "bridleway             418  1.665587e+05\n",
       "bus_guideway            2  5.344000e+01\n",
       "bus_stop               67  3.011623e+03\n",
       "construction          938  1.646096e+05\n",
       "construction:path       1  2.774930e+02\n",
       "corridor              201  6.850892e+03\n",
       "crossing                1  1.359000e+01\n",
       "cycleway             8901  1.722030e+06\n",
       "demolished              2  5.455300e+01\n",
       "disused                22  1.778356e+03\n",
       "disused:track           1  1.101800e+01\n",
       "elevator               39  4.897650e+02\n",
       "emergency_bay          11  5.214810e+02\n",
       "escape                  3  2.614860e+02\n",
       "footway            152222  9.553614e+06\n",
       "living_street       17113  1.768837e+06\n",
       "motorway             7943  3.023000e+06\n",
       "motorway_link        5172  7.172216e+05\n",
       "nearby                  1  1.130060e+02\n",
       "no                     19  3.915723e+03\n",
       "parking_aisle           2  6.844800e+01\n",
       "passing_place           5  2.060730e+02\n",
       "path               147998  2.492647e+07\n",
       "pedestrian           5966  6.032422e+05\n",
       "planned                17  4.218546e+03\n",
       "platform             1561  4.628003e+04\n",
       "primary             26822  4.455340e+06\n",
       "primary_link         3657  2.287191e+05\n",
       "proposed              586  2.845851e+05\n",
       "raceway               213  7.067601e+04\n",
       "razed                  28  4.413501e+03\n",
       "residential        210031  3.446290e+07\n",
       "rest_area             260  1.130476e+05\n",
       "road                  126  2.323436e+04\n",
       "secondary           49437  1.099831e+07\n",
       "secondary_link       2219  1.023401e+05\n",
       "service            243212  2.195770e+07\n",
       "services               63  5.062704e+04\n",
       "steps               31454  4.974509e+05\n",
       "tertiary            44144  1.152463e+07\n",
       "tertiary_link        1171  4.886669e+04\n",
       "track              463307  1.737959e+08\n",
       "traffic_island         24  1.164253e+03\n",
       "trail                   3  7.566270e+02\n",
       "trunk                5120  1.109488e+06\n",
       "trunk_link           3453  3.464123e+05\n",
       "turning_circle          2  3.327200e+01\n",
       "unclassified        29494  8.239552e+06\n",
       "via_ferrata            10  2.778110e+02\n",
       "virtual                 1  3.631400e+01\n",
       "virtual_rail           13  4.370980e+02\n",
       "yes                     3  4.058390e+02"
      ]
     },
     "execution_count": 103,
     "metadata": {},
     "output_type": "execute_result"
    }
   ],
   "source": [
    "length"
   ]
  },
  {
   "cell_type": "code",
   "execution_count": 7,
   "metadata": {
    "ExecuteTime": {
     "end_time": "2020-09-05T07:07:55.600733Z",
     "start_time": "2020-09-05T07:07:55.586732Z"
    }
   },
   "outputs": [
    {
     "data": {
      "image/svg+xml": [
       "<svg xmlns=\"http://www.w3.org/2000/svg\" xmlns:xlink=\"http://www.w3.org/1999/xlink\" width=\"100.0\" height=\"100.0\" viewBox=\"6.2588444800001 47.52939648000005 2.7584210399999307 3.031196039999955\" preserveAspectRatio=\"xMinYMin meet\"><g transform=\"matrix(1,0,0,-1,0,98.08998900000006)\"><path fill-rule=\"evenodd\" fill=\"#66cc99\" stroke=\"#555555\" stroke-width=\"0.0606239207999991\" opacity=\"0.6\" d=\"M 8.904999000000032,47.65027600000002 L 8.629165999999998,47.64611100000002 L 7.561110000000099,47.64166300000005 L 8.051942999999994,49.00527200000005 L 6.714167000000089,49.18582900000007 L 6.371111000000099,50.44832600000001 L 8.8,50.0 L 8.904999000000032,47.65027600000002 z\" /></g></svg>"
      ],
      "text/plain": [
       "<shapely.geometry.polygon.Polygon at 0x1a9841a8408>"
      ]
     },
     "execution_count": 7,
     "metadata": {},
     "output_type": "execute_result"
    }
   ],
   "source": [
    "geometry"
   ]
  },
  {
   "cell_type": "markdown",
   "metadata": {},
   "source": [
    "# area ID: use area ID to define an area and get road length infomation inside the area"
   ]
  },
  {
   "cell_type": "code",
   "execution_count": 16,
   "metadata": {
    "ExecuteTime": {
     "end_time": "2020-09-06T10:21:47.924438Z",
     "start_time": "2020-09-06T10:21:47.919426Z"
    }
   },
   "outputs": [],
   "source": [
    "nominatim = Nominatim()\n",
    "city = nominatim.query('karlsruhe')"
   ]
  },
  {
   "cell_type": "code",
   "execution_count": 17,
   "metadata": {
    "ExecuteTime": {
     "end_time": "2020-09-06T10:21:58.078526Z",
     "start_time": "2020-09-06T10:21:52.718572Z"
    }
   },
   "outputs": [],
   "source": [
    "length = osm_road_length_yuan_huang.get(city.areaId())"
   ]
  },
  {
   "cell_type": "code",
   "execution_count": 18,
   "metadata": {
    "ExecuteTime": {
     "end_time": "2020-09-06T10:21:59.385526Z",
     "start_time": "2020-09-06T10:21:59.375529Z"
    }
   },
   "outputs": [
    {
     "data": {
      "text/html": [
       "<div>\n",
       "<style scoped>\n",
       "    .dataframe tbody tr th:only-of-type {\n",
       "        vertical-align: middle;\n",
       "    }\n",
       "\n",
       "    .dataframe tbody tr th {\n",
       "        vertical-align: top;\n",
       "    }\n",
       "\n",
       "    .dataframe thead th {\n",
       "        text-align: right;\n",
       "    }\n",
       "</style>\n",
       "<table border=\"1\" class=\"dataframe\">\n",
       "  <thead>\n",
       "    <tr style=\"text-align: right;\">\n",
       "      <th></th>\n",
       "      <th>count</th>\n",
       "      <th>length</th>\n",
       "    </tr>\n",
       "    <tr>\n",
       "      <th>highway</th>\n",
       "      <th></th>\n",
       "      <th></th>\n",
       "    </tr>\n",
       "  </thead>\n",
       "  <tbody>\n",
       "    <tr>\n",
       "      <th>abandoned</th>\n",
       "      <td>4</td>\n",
       "      <td>1177.687</td>\n",
       "    </tr>\n",
       "    <tr>\n",
       "      <th>bridleway</th>\n",
       "      <td>14</td>\n",
       "      <td>5968.182</td>\n",
       "    </tr>\n",
       "    <tr>\n",
       "      <th>bus_stop</th>\n",
       "      <td>5</td>\n",
       "      <td>93.147</td>\n",
       "    </tr>\n",
       "    <tr>\n",
       "      <th>construction</th>\n",
       "      <td>64</td>\n",
       "      <td>5549.346</td>\n",
       "    </tr>\n",
       "    <tr>\n",
       "      <th>corridor</th>\n",
       "      <td>43</td>\n",
       "      <td>1613.106</td>\n",
       "    </tr>\n",
       "    <tr>\n",
       "      <th>cycleway</th>\n",
       "      <td>710</td>\n",
       "      <td>71106.173</td>\n",
       "    </tr>\n",
       "    <tr>\n",
       "      <th>demolished</th>\n",
       "      <td>1</td>\n",
       "      <td>13.862</td>\n",
       "    </tr>\n",
       "    <tr>\n",
       "      <th>disused</th>\n",
       "      <td>12</td>\n",
       "      <td>1085.952</td>\n",
       "    </tr>\n",
       "    <tr>\n",
       "      <th>elevator</th>\n",
       "      <td>16</td>\n",
       "      <td>159.637</td>\n",
       "    </tr>\n",
       "    <tr>\n",
       "      <th>emergency_bay</th>\n",
       "      <td>2</td>\n",
       "      <td>202.462</td>\n",
       "    </tr>\n",
       "    <tr>\n",
       "      <th>footway</th>\n",
       "      <td>8367</td>\n",
       "      <td>432716.753</td>\n",
       "    </tr>\n",
       "    <tr>\n",
       "      <th>living_street</th>\n",
       "      <td>368</td>\n",
       "      <td>32352.940</td>\n",
       "    </tr>\n",
       "    <tr>\n",
       "      <th>motorway</th>\n",
       "      <td>150</td>\n",
       "      <td>43030.320</td>\n",
       "    </tr>\n",
       "    <tr>\n",
       "      <th>motorway_link</th>\n",
       "      <td>169</td>\n",
       "      <td>20981.362</td>\n",
       "    </tr>\n",
       "    <tr>\n",
       "      <th>path</th>\n",
       "      <td>5786</td>\n",
       "      <td>513514.643</td>\n",
       "    </tr>\n",
       "    <tr>\n",
       "      <th>pedestrian</th>\n",
       "      <td>336</td>\n",
       "      <td>31285.599</td>\n",
       "    </tr>\n",
       "    <tr>\n",
       "      <th>platform</th>\n",
       "      <td>100</td>\n",
       "      <td>4033.138</td>\n",
       "    </tr>\n",
       "    <tr>\n",
       "      <th>primary</th>\n",
       "      <td>994</td>\n",
       "      <td>76516.051</td>\n",
       "    </tr>\n",
       "    <tr>\n",
       "      <th>primary_link</th>\n",
       "      <td>111</td>\n",
       "      <td>4737.930</td>\n",
       "    </tr>\n",
       "    <tr>\n",
       "      <th>proposed</th>\n",
       "      <td>39</td>\n",
       "      <td>9321.246</td>\n",
       "    </tr>\n",
       "    <tr>\n",
       "      <th>raceway</th>\n",
       "      <td>2</td>\n",
       "      <td>306.358</td>\n",
       "    </tr>\n",
       "    <tr>\n",
       "      <th>razed</th>\n",
       "      <td>11</td>\n",
       "      <td>500.863</td>\n",
       "    </tr>\n",
       "    <tr>\n",
       "      <th>residential</th>\n",
       "      <td>3544</td>\n",
       "      <td>488747.935</td>\n",
       "    </tr>\n",
       "    <tr>\n",
       "      <th>rest_area</th>\n",
       "      <td>1</td>\n",
       "      <td>491.399</td>\n",
       "    </tr>\n",
       "    <tr>\n",
       "      <th>road</th>\n",
       "      <td>1</td>\n",
       "      <td>43.930</td>\n",
       "    </tr>\n",
       "    <tr>\n",
       "      <th>secondary</th>\n",
       "      <td>1601</td>\n",
       "      <td>103687.224</td>\n",
       "    </tr>\n",
       "    <tr>\n",
       "      <th>secondary_link</th>\n",
       "      <td>76</td>\n",
       "      <td>2958.827</td>\n",
       "    </tr>\n",
       "    <tr>\n",
       "      <th>service</th>\n",
       "      <td>9460</td>\n",
       "      <td>665149.073</td>\n",
       "    </tr>\n",
       "    <tr>\n",
       "      <th>steps</th>\n",
       "      <td>1428</td>\n",
       "      <td>14593.258</td>\n",
       "    </tr>\n",
       "    <tr>\n",
       "      <th>tertiary</th>\n",
       "      <td>1025</td>\n",
       "      <td>85235.839</td>\n",
       "    </tr>\n",
       "    <tr>\n",
       "      <th>tertiary_link</th>\n",
       "      <td>50</td>\n",
       "      <td>1858.745</td>\n",
       "    </tr>\n",
       "    <tr>\n",
       "      <th>track</th>\n",
       "      <td>2918</td>\n",
       "      <td>757828.742</td>\n",
       "    </tr>\n",
       "    <tr>\n",
       "      <th>traffic_island</th>\n",
       "      <td>3</td>\n",
       "      <td>78.414</td>\n",
       "    </tr>\n",
       "    <tr>\n",
       "      <th>trunk</th>\n",
       "      <td>316</td>\n",
       "      <td>50856.486</td>\n",
       "    </tr>\n",
       "    <tr>\n",
       "      <th>trunk_link</th>\n",
       "      <td>298</td>\n",
       "      <td>26435.893</td>\n",
       "    </tr>\n",
       "    <tr>\n",
       "      <th>unclassified</th>\n",
       "      <td>509</td>\n",
       "      <td>64003.949</td>\n",
       "    </tr>\n",
       "  </tbody>\n",
       "</table>\n",
       "</div>"
      ],
      "text/plain": [
       "                count      length\n",
       "highway                          \n",
       "abandoned           4    1177.687\n",
       "bridleway          14    5968.182\n",
       "bus_stop            5      93.147\n",
       "construction       64    5549.346\n",
       "corridor           43    1613.106\n",
       "cycleway          710   71106.173\n",
       "demolished          1      13.862\n",
       "disused            12    1085.952\n",
       "elevator           16     159.637\n",
       "emergency_bay       2     202.462\n",
       "footway          8367  432716.753\n",
       "living_street     368   32352.940\n",
       "motorway          150   43030.320\n",
       "motorway_link     169   20981.362\n",
       "path             5786  513514.643\n",
       "pedestrian        336   31285.599\n",
       "platform          100    4033.138\n",
       "primary           994   76516.051\n",
       "primary_link      111    4737.930\n",
       "proposed           39    9321.246\n",
       "raceway             2     306.358\n",
       "razed              11     500.863\n",
       "residential      3544  488747.935\n",
       "rest_area           1     491.399\n",
       "road                1      43.930\n",
       "secondary        1601  103687.224\n",
       "secondary_link     76    2958.827\n",
       "service          9460  665149.073\n",
       "steps            1428   14593.258\n",
       "tertiary         1025   85235.839\n",
       "tertiary_link      50    1858.745\n",
       "track            2918  757828.742\n",
       "traffic_island      3      78.414\n",
       "trunk             316   50856.486\n",
       "trunk_link        298   26435.893\n",
       "unclassified      509   64003.949"
      ]
     },
     "execution_count": 18,
     "metadata": {},
     "output_type": "execute_result"
    }
   ],
   "source": [
    "length"
   ]
  },
  {
   "cell_type": "code",
   "execution_count": 2,
   "metadata": {
    "ExecuteTime": {
     "end_time": "2020-09-07T09:14:19.937309Z",
     "start_time": "2020-09-07T09:14:19.883313Z"
    }
   },
   "outputs": [],
   "source": [
    "nominatim = Nominatim()\n",
    "city = nominatim.query('poland')"
   ]
  },
  {
   "cell_type": "code",
   "execution_count": 7,
   "metadata": {
    "ExecuteTime": {
     "end_time": "2020-09-07T09:21:19.978878Z",
     "start_time": "2020-09-07T09:21:19.962880Z"
    }
   },
   "outputs": [],
   "source": [
    "nominatim = Nominatim()\n",
    "city = nominatim.query('Germany')"
   ]
  },
  {
   "cell_type": "code",
   "execution_count": 8,
   "metadata": {
    "ExecuteTime": {
     "end_time": "2020-09-07T09:21:22.760068Z",
     "start_time": "2020-09-07T09:21:22.754051Z"
    }
   },
   "outputs": [
    {
     "data": {
      "text/plain": [
       "3600051477"
      ]
     },
     "execution_count": 8,
     "metadata": {},
     "output_type": "execute_result"
    }
   ],
   "source": [
    "city.areaId()"
   ]
  },
  {
   "cell_type": "code",
   "execution_count": 9,
   "metadata": {
    "ExecuteTime": {
     "end_time": "2020-09-07T09:24:31.752550Z",
     "start_time": "2020-09-07T09:21:28.378068Z"
    }
   },
   "outputs": [
    {
     "ename": "KeyError",
     "evalue": "'length'",
     "output_type": "error",
     "traceback": [
      "\u001b[1;31m---------------------------------------------------------------------------\u001b[0m",
      "\u001b[1;31mKeyError\u001b[0m                                  Traceback (most recent call last)",
      "\u001b[1;32mc:\\users\\hyuan\\anaconda3\\envs\\osm\\lib\\site-packages\\pandas\\core\\indexes\\base.py\u001b[0m in \u001b[0;36mget_loc\u001b[1;34m(self, key, method, tolerance)\u001b[0m\n\u001b[0;32m   2888\u001b[0m             \u001b[1;32mtry\u001b[0m\u001b[1;33m:\u001b[0m\u001b[1;33m\u001b[0m\u001b[1;33m\u001b[0m\u001b[0m\n\u001b[1;32m-> 2889\u001b[1;33m                 \u001b[1;32mreturn\u001b[0m \u001b[0mself\u001b[0m\u001b[1;33m.\u001b[0m\u001b[0m_engine\u001b[0m\u001b[1;33m.\u001b[0m\u001b[0mget_loc\u001b[0m\u001b[1;33m(\u001b[0m\u001b[0mcasted_key\u001b[0m\u001b[1;33m)\u001b[0m\u001b[1;33m\u001b[0m\u001b[1;33m\u001b[0m\u001b[0m\n\u001b[0m\u001b[0;32m   2890\u001b[0m             \u001b[1;32mexcept\u001b[0m \u001b[0mKeyError\u001b[0m \u001b[1;32mas\u001b[0m \u001b[0merr\u001b[0m\u001b[1;33m:\u001b[0m\u001b[1;33m\u001b[0m\u001b[1;33m\u001b[0m\u001b[0m\n",
      "\u001b[1;32mpandas\\_libs\\index.pyx\u001b[0m in \u001b[0;36mpandas._libs.index.IndexEngine.get_loc\u001b[1;34m()\u001b[0m\n",
      "\u001b[1;32mpandas\\_libs\\index.pyx\u001b[0m in \u001b[0;36mpandas._libs.index.IndexEngine.get_loc\u001b[1;34m()\u001b[0m\n",
      "\u001b[1;32mpandas\\_libs\\hashtable_class_helper.pxi\u001b[0m in \u001b[0;36mpandas._libs.hashtable.PyObjectHashTable.get_item\u001b[1;34m()\u001b[0m\n",
      "\u001b[1;32mpandas\\_libs\\hashtable_class_helper.pxi\u001b[0m in \u001b[0;36mpandas._libs.hashtable.PyObjectHashTable.get_item\u001b[1;34m()\u001b[0m\n",
      "\u001b[1;31mKeyError\u001b[0m: 'length'",
      "\nThe above exception was the direct cause of the following exception:\n",
      "\u001b[1;31mKeyError\u001b[0m                                  Traceback (most recent call last)",
      "\u001b[1;32m<ipython-input-9-2599727d96ed>\u001b[0m in \u001b[0;36m<module>\u001b[1;34m\u001b[0m\n\u001b[1;32m----> 1\u001b[1;33m \u001b[0mlength\u001b[0m \u001b[1;33m=\u001b[0m \u001b[0mosm_road_length_yuan_huang\u001b[0m\u001b[1;33m.\u001b[0m\u001b[0mget\u001b[0m\u001b[1;33m(\u001b[0m\u001b[0mcity\u001b[0m\u001b[1;33m.\u001b[0m\u001b[0mareaId\u001b[0m\u001b[1;33m(\u001b[0m\u001b[1;33m)\u001b[0m\u001b[1;33m)\u001b[0m\u001b[1;33m\u001b[0m\u001b[1;33m\u001b[0m\u001b[0m\n\u001b[0m",
      "\u001b[1;32mF:\\Code\\Code_Python\\OSM\\osm_road_length_yuan_huang.py\u001b[0m in \u001b[0;36mget\u001b[1;34m(area, threshold_value, simplify, simplify_limit)\u001b[0m\n\u001b[0;32m    160\u001b[0m \u001b[1;33m\u001b[0m\u001b[0m\n\u001b[0;32m    161\u001b[0m     \u001b[0mdata\u001b[0m \u001b[1;33m=\u001b[0m \u001b[0mpd\u001b[0m\u001b[1;33m.\u001b[0m\u001b[0mconcat\u001b[0m\u001b[1;33m(\u001b[0m\u001b[1;33m[\u001b[0m\u001b[0mpd\u001b[0m\u001b[1;33m.\u001b[0m\u001b[0mDataFrame\u001b[0m\u001b[1;33m(\u001b[0m\u001b[0md\u001b[0m\u001b[1;33m)\u001b[0m \u001b[1;32mfor\u001b[0m \u001b[0md\u001b[0m \u001b[1;32min\u001b[0m \u001b[0mresponses\u001b[0m\u001b[1;33m]\u001b[0m\u001b[1;33m)\u001b[0m\u001b[1;33m\u001b[0m\u001b[1;33m\u001b[0m\u001b[0m\n\u001b[1;32m--> 162\u001b[1;33m     \u001b[0mdata\u001b[0m\u001b[1;33m[\u001b[0m\u001b[1;34m\"length\"\u001b[0m\u001b[1;33m]\u001b[0m \u001b[1;33m=\u001b[0m \u001b[0mdata\u001b[0m\u001b[1;33m[\u001b[0m\u001b[1;34m\"length\"\u001b[0m\u001b[1;33m]\u001b[0m\u001b[1;33m.\u001b[0m\u001b[0mastype\u001b[0m\u001b[1;33m(\u001b[0m\u001b[0mfloat\u001b[0m\u001b[1;33m)\u001b[0m\u001b[1;33m\u001b[0m\u001b[1;33m\u001b[0m\u001b[0m\n\u001b[0m\u001b[0;32m    163\u001b[0m     \u001b[0mdata\u001b[0m\u001b[1;33m[\u001b[0m\u001b[1;34m\"count\"\u001b[0m\u001b[1;33m]\u001b[0m \u001b[1;33m=\u001b[0m \u001b[0mdata\u001b[0m\u001b[1;33m[\u001b[0m\u001b[1;34m\"count\"\u001b[0m\u001b[1;33m]\u001b[0m\u001b[1;33m.\u001b[0m\u001b[0mastype\u001b[0m\u001b[1;33m(\u001b[0m\u001b[0mint\u001b[0m\u001b[1;33m)\u001b[0m\u001b[1;33m\u001b[0m\u001b[1;33m\u001b[0m\u001b[0m\n\u001b[0;32m    164\u001b[0m     \u001b[0mdata\u001b[0m \u001b[1;33m=\u001b[0m \u001b[0mdata\u001b[0m\u001b[1;33m.\u001b[0m\u001b[0mgroupby\u001b[0m\u001b[1;33m(\u001b[0m\u001b[1;34m\"highway\"\u001b[0m\u001b[1;33m)\u001b[0m\u001b[1;33m.\u001b[0m\u001b[0msum\u001b[0m\u001b[1;33m(\u001b[0m\u001b[1;33m)\u001b[0m\u001b[1;33m\u001b[0m\u001b[1;33m\u001b[0m\u001b[0m\n",
      "\u001b[1;32mc:\\users\\hyuan\\anaconda3\\envs\\osm\\lib\\site-packages\\pandas\\core\\frame.py\u001b[0m in \u001b[0;36m__getitem__\u001b[1;34m(self, key)\u001b[0m\n\u001b[0;32m   2897\u001b[0m             \u001b[1;32mif\u001b[0m \u001b[0mself\u001b[0m\u001b[1;33m.\u001b[0m\u001b[0mcolumns\u001b[0m\u001b[1;33m.\u001b[0m\u001b[0mnlevels\u001b[0m \u001b[1;33m>\u001b[0m \u001b[1;36m1\u001b[0m\u001b[1;33m:\u001b[0m\u001b[1;33m\u001b[0m\u001b[1;33m\u001b[0m\u001b[0m\n\u001b[0;32m   2898\u001b[0m                 \u001b[1;32mreturn\u001b[0m \u001b[0mself\u001b[0m\u001b[1;33m.\u001b[0m\u001b[0m_getitem_multilevel\u001b[0m\u001b[1;33m(\u001b[0m\u001b[0mkey\u001b[0m\u001b[1;33m)\u001b[0m\u001b[1;33m\u001b[0m\u001b[1;33m\u001b[0m\u001b[0m\n\u001b[1;32m-> 2899\u001b[1;33m             \u001b[0mindexer\u001b[0m \u001b[1;33m=\u001b[0m \u001b[0mself\u001b[0m\u001b[1;33m.\u001b[0m\u001b[0mcolumns\u001b[0m\u001b[1;33m.\u001b[0m\u001b[0mget_loc\u001b[0m\u001b[1;33m(\u001b[0m\u001b[0mkey\u001b[0m\u001b[1;33m)\u001b[0m\u001b[1;33m\u001b[0m\u001b[1;33m\u001b[0m\u001b[0m\n\u001b[0m\u001b[0;32m   2900\u001b[0m             \u001b[1;32mif\u001b[0m \u001b[0mis_integer\u001b[0m\u001b[1;33m(\u001b[0m\u001b[0mindexer\u001b[0m\u001b[1;33m)\u001b[0m\u001b[1;33m:\u001b[0m\u001b[1;33m\u001b[0m\u001b[1;33m\u001b[0m\u001b[0m\n\u001b[0;32m   2901\u001b[0m                 \u001b[0mindexer\u001b[0m \u001b[1;33m=\u001b[0m \u001b[1;33m[\u001b[0m\u001b[0mindexer\u001b[0m\u001b[1;33m]\u001b[0m\u001b[1;33m\u001b[0m\u001b[1;33m\u001b[0m\u001b[0m\n",
      "\u001b[1;32mc:\\users\\hyuan\\anaconda3\\envs\\osm\\lib\\site-packages\\pandas\\core\\indexes\\base.py\u001b[0m in \u001b[0;36mget_loc\u001b[1;34m(self, key, method, tolerance)\u001b[0m\n\u001b[0;32m   2889\u001b[0m                 \u001b[1;32mreturn\u001b[0m \u001b[0mself\u001b[0m\u001b[1;33m.\u001b[0m\u001b[0m_engine\u001b[0m\u001b[1;33m.\u001b[0m\u001b[0mget_loc\u001b[0m\u001b[1;33m(\u001b[0m\u001b[0mcasted_key\u001b[0m\u001b[1;33m)\u001b[0m\u001b[1;33m\u001b[0m\u001b[1;33m\u001b[0m\u001b[0m\n\u001b[0;32m   2890\u001b[0m             \u001b[1;32mexcept\u001b[0m \u001b[0mKeyError\u001b[0m \u001b[1;32mas\u001b[0m \u001b[0merr\u001b[0m\u001b[1;33m:\u001b[0m\u001b[1;33m\u001b[0m\u001b[1;33m\u001b[0m\u001b[0m\n\u001b[1;32m-> 2891\u001b[1;33m                 \u001b[1;32mraise\u001b[0m \u001b[0mKeyError\u001b[0m\u001b[1;33m(\u001b[0m\u001b[0mkey\u001b[0m\u001b[1;33m)\u001b[0m \u001b[1;32mfrom\u001b[0m \u001b[0merr\u001b[0m\u001b[1;33m\u001b[0m\u001b[1;33m\u001b[0m\u001b[0m\n\u001b[0m\u001b[0;32m   2892\u001b[0m \u001b[1;33m\u001b[0m\u001b[0m\n\u001b[0;32m   2893\u001b[0m         \u001b[1;32mif\u001b[0m \u001b[0mtolerance\u001b[0m \u001b[1;32mis\u001b[0m \u001b[1;32mnot\u001b[0m \u001b[1;32mNone\u001b[0m\u001b[1;33m:\u001b[0m\u001b[1;33m\u001b[0m\u001b[1;33m\u001b[0m\u001b[0m\n",
      "\u001b[1;31mKeyError\u001b[0m: 'length'"
     ]
    }
   ],
   "source": [
    "length = osm_road_length_yuan_huang.get(city.areaId())"
   ]
  },
  {
   "cell_type": "code",
   "execution_count": 5,
   "metadata": {
    "ExecuteTime": {
     "end_time": "2020-09-07T09:19:32.097016Z",
     "start_time": "2020-09-07T09:19:32.075011Z"
    }
   },
   "outputs": [
    {
     "data": {
      "text/html": [
       "<div>\n",
       "<style scoped>\n",
       "    .dataframe tbody tr th:only-of-type {\n",
       "        vertical-align: middle;\n",
       "    }\n",
       "\n",
       "    .dataframe tbody tr th {\n",
       "        vertical-align: top;\n",
       "    }\n",
       "\n",
       "    .dataframe thead th {\n",
       "        text-align: right;\n",
       "    }\n",
       "</style>\n",
       "<table border=\"1\" class=\"dataframe\">\n",
       "  <thead>\n",
       "    <tr style=\"text-align: right;\">\n",
       "      <th></th>\n",
       "      <th>count</th>\n",
       "      <th>length</th>\n",
       "    </tr>\n",
       "    <tr>\n",
       "      <th>highway</th>\n",
       "      <th></th>\n",
       "      <th></th>\n",
       "    </tr>\n",
       "  </thead>\n",
       "  <tbody>\n",
       "    <tr>\n",
       "      <th>17E</th>\n",
       "      <td>1</td>\n",
       "      <td>36.529</td>\n",
       "    </tr>\n",
       "    <tr>\n",
       "      <th>62-814</th>\n",
       "      <td>1</td>\n",
       "      <td>67.115</td>\n",
       "    </tr>\n",
       "    <tr>\n",
       "      <th>62-817</th>\n",
       "      <td>1</td>\n",
       "      <td>73.210</td>\n",
       "    </tr>\n",
       "    <tr>\n",
       "      <th>abandoned</th>\n",
       "      <td>6</td>\n",
       "      <td>3066.065</td>\n",
       "    </tr>\n",
       "    <tr>\n",
       "      <th>bridleway</th>\n",
       "      <td>660</td>\n",
       "      <td>346611.150</td>\n",
       "    </tr>\n",
       "    <tr>\n",
       "      <th>bus_bay</th>\n",
       "      <td>1</td>\n",
       "      <td>38.488</td>\n",
       "    </tr>\n",
       "  </tbody>\n",
       "</table>\n",
       "</div>"
      ],
      "text/plain": [
       "           count      length\n",
       "highway                     \n",
       "17E            1      36.529\n",
       "62-814         1      67.115\n",
       "62-817         1      73.210\n",
       "abandoned      6    3066.065\n",
       "bridleway    660  346611.150\n",
       "bus_bay        1      38.488"
      ]
     },
     "execution_count": 5,
     "metadata": {},
     "output_type": "execute_result"
    }
   ],
   "source": [
    "length"
   ]
  }
 ],
 "metadata": {
  "kernelspec": {
   "display_name": "Python 3",
   "language": "python",
   "name": "python3"
  },
  "language_info": {
   "codemirror_mode": {
    "name": "ipython",
    "version": 3
   },
   "file_extension": ".py",
   "mimetype": "text/x-python",
   "name": "python",
   "nbconvert_exporter": "python",
   "pygments_lexer": "ipython3",
   "version": "3.7.7"
  },
  "toc": {
   "base_numbering": 1,
   "nav_menu": {},
   "number_sections": true,
   "sideBar": true,
   "skip_h1_title": false,
   "title_cell": "Table of Contents",
   "title_sidebar": "Contents",
   "toc_cell": false,
   "toc_position": {
    "height": "calc(100% - 180px)",
    "left": "10px",
    "top": "150px",
    "width": "384px"
   },
   "toc_section_display": true,
   "toc_window_display": true
  },
  "varInspector": {
   "cols": {
    "lenName": 16,
    "lenType": 16,
    "lenVar": 40
   },
   "kernels_config": {
    "python": {
     "delete_cmd_postfix": "",
     "delete_cmd_prefix": "del ",
     "library": "var_list.py",
     "varRefreshCmd": "print(var_dic_list())"
    },
    "r": {
     "delete_cmd_postfix": ") ",
     "delete_cmd_prefix": "rm(",
     "library": "var_list.r",
     "varRefreshCmd": "cat(var_dic_list()) "
    }
   },
   "types_to_exclude": [
    "module",
    "function",
    "builtin_function_or_method",
    "instance",
    "_Feature"
   ],
   "window_display": false
  }
 },
 "nbformat": 4,
 "nbformat_minor": 4
}
