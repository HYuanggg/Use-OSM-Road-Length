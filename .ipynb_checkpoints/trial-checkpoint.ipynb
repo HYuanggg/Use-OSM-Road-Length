{
 "cells": [
  {
   "cell_type": "code",
   "execution_count": 1,
   "metadata": {
    "ExecuteTime": {
     "end_time": "2020-08-21T11:20:59.416257Z",
     "start_time": "2020-08-21T11:20:57.463913Z"
    }
   },
   "outputs": [],
   "source": [
    "from OSMPythonTools.nominatim import Nominatim\n",
    "from OSMPythonTools.overpass import overpassQueryBuilder,Overpass\n",
    "from OSMPythonTools.data import Data, dictRangeYears,ALL\n",
    "from collections import OrderedDict\n",
    "from OSMPythonTools.api import Api"
   ]
  },
  {
   "cell_type": "code",
   "execution_count": 26,
   "metadata": {
    "ExecuteTime": {
     "end_time": "2020-08-21T13:04:19.820161Z",
     "start_time": "2020-08-21T13:04:19.695147Z"
    }
   },
   "outputs": [
    {
     "name": "stdout",
     "output_type": "stream",
     "text": [
      "[nominatim] downloading data: heidelberg,US\n"
     ]
    },
    {
     "data": {
      "text/plain": [
       "3600137181"
      ]
     },
     "execution_count": 26,
     "metadata": {},
     "output_type": "execute_result"
    }
   ],
   "source": [
    "nominatim = Nominatim()\n",
    "city = nominatim.query('heidelberg,US')\n",
    "city.areaId()"
   ]
  },
  {
   "cell_type": "code",
   "execution_count": 27,
   "metadata": {
    "ExecuteTime": {
     "end_time": "2020-08-21T13:04:25.737021Z",
     "start_time": "2020-08-21T13:04:25.729019Z"
    },
    "scrolled": true
   },
   "outputs": [
    {
     "data": {
      "text/plain": [
       "[{'place_id': 234855183,\n",
       "  'licence': 'Data © OpenStreetMap contributors, ODbL 1.0. https://osm.org/copyright',\n",
       "  'osm_type': 'relation',\n",
       "  'osm_id': 137181,\n",
       "  'boundingbox': ['44.4845658', '44.5006356', '-93.6316503', '-93.6211027'],\n",
       "  'lat': '44.4913526',\n",
       "  'lon': '-93.6263443',\n",
       "  'display_name': 'Heidelberg, Le Sueur County, Minnesota, United States of America',\n",
       "  'class': 'boundary',\n",
       "  'type': 'administrative',\n",
       "  'importance': 0.5257415321216137,\n",
       "  'icon': 'https://nominatim.openstreetmap.org/images/mapicons/poi_boundary_administrative.p.20.png'},\n",
       " {'place_id': 235561592,\n",
       "  'licence': 'Data © OpenStreetMap contributors, ODbL 1.0. https://osm.org/copyright',\n",
       "  'osm_type': 'relation',\n",
       "  'osm_id': 187459,\n",
       "  'boundingbox': ['40.387245', '40.395138', '-80.099254', '-80.08608'],\n",
       "  'lat': '40.3921671',\n",
       "  'lon': '-80.0910519',\n",
       "  'display_name': 'Heidelberg, Allegheny County, Pennsylvania, United States of America',\n",
       "  'class': 'boundary',\n",
       "  'type': 'administrative',\n",
       "  'importance': 0.43596057896493035,\n",
       "  'icon': 'https://nominatim.openstreetmap.org/images/mapicons/poi_boundary_administrative.p.20.png'},\n",
       " {'place_id': 382667,\n",
       "  'licence': 'Data © OpenStreetMap contributors, ODbL 1.0. https://osm.org/copyright',\n",
       "  'osm_type': 'node',\n",
       "  'osm_id': 151558910,\n",
       "  'boundingbox': ['26.177019', '26.217019', '-97.9002764', '-97.8602764'],\n",
       "  'lat': '26.197019',\n",
       "  'lon': '-97.8802764',\n",
       "  'display_name': 'Heidelberg, Hidalgo County, Texas, United States of America',\n",
       "  'class': 'place',\n",
       "  'type': 'hamlet',\n",
       "  'importance': 0.35,\n",
       "  'icon': 'https://nominatim.openstreetmap.org/images/mapicons/poi_place_village.p.20.png'},\n",
       " {'place_id': 450476,\n",
       "  'licence': 'Data © OpenStreetMap contributors, ODbL 1.0. https://osm.org/copyright',\n",
       "  'osm_type': 'node',\n",
       "  'osm_id': 153995786,\n",
       "  'boundingbox': ['37.5353639', '37.5753639', '-83.7988073', '-83.7588073'],\n",
       "  'lat': '37.5553639',\n",
       "  'lon': '-83.7788073',\n",
       "  'display_name': 'Heidelberg, Lee County, Kentucky, 41333, United States of America',\n",
       "  'class': 'place',\n",
       "  'type': 'village',\n",
       "  'importance': 0.33859140675544,\n",
       "  'icon': 'https://nominatim.openstreetmap.org/images/mapicons/poi_place_village.p.20.png'},\n",
       " {'place_id': 95467632,\n",
       "  'licence': 'Data © OpenStreetMap contributors, ODbL 1.0. https://osm.org/copyright',\n",
       "  'osm_type': 'way',\n",
       "  'osm_id': 32945392,\n",
       "  'boundingbox': ['31.870908', '31.916003', '-89.018347', '-88.964967'],\n",
       "  'lat': '31.8868224',\n",
       "  'lon': '-88.9839419',\n",
       "  'display_name': 'Heidelberg, Jasper County, Mississippi, United States of America',\n",
       "  'class': 'boundary',\n",
       "  'type': 'administrative',\n",
       "  'importance': 0.33859140675544,\n",
       "  'icon': 'https://nominatim.openstreetmap.org/images/mapicons/poi_boundary_administrative.p.20.png'},\n",
       " {'place_id': 197909031,\n",
       "  'licence': 'Data © OpenStreetMap contributors, ODbL 1.0. https://osm.org/copyright',\n",
       "  'osm_type': 'way',\n",
       "  'osm_id': 524799906,\n",
       "  'boundingbox': ['38.9467654', '38.9469114', '-92.3275019', '-92.3271024'],\n",
       "  'lat': '38.94683845',\n",
       "  'lon': '-92.32730219733179',\n",
       "  'display_name': 'Heidelberg, South 9th Street, Strollway, Columbia, Boone County, Missouri, 65201, United States of America',\n",
       "  'class': 'amenity',\n",
       "  'type': 'restaurant',\n",
       "  'importance': 0.101,\n",
       "  'icon': 'https://nominatim.openstreetmap.org/images/mapicons/food_restaurant.p.20.png'},\n",
       " {'place_id': 156623053,\n",
       "  'licence': 'Data © OpenStreetMap contributors, ODbL 1.0. https://osm.org/copyright',\n",
       "  'osm_type': 'way',\n",
       "  'osm_id': 298728738,\n",
       "  'boundingbox': ['34.6996316', '34.6999595', '-83.71519', '-83.7149114'],\n",
       "  'lat': '34.69979375',\n",
       "  'lon': '-83.7150492869491',\n",
       "  'display_name': 'Heidelberg, Brucken Strasse, Helen, White County, Georgia, 30545, United States of America',\n",
       "  'class': 'building',\n",
       "  'type': 'condominium',\n",
       "  'importance': 0.101}]"
      ]
     },
     "execution_count": 27,
     "metadata": {},
     "output_type": "execute_result"
    }
   ],
   "source": [
    "city.toJSON()"
   ]
  },
  {
   "cell_type": "code",
   "execution_count": 7,
   "metadata": {
    "ExecuteTime": {
     "end_time": "2020-08-21T08:50:00.512457Z",
     "start_time": "2020-08-21T08:50:00.200155Z"
    }
   },
   "outputs": [
    {
     "name": "stdout",
     "output_type": "stream",
     "text": [
      "[api] downloading data: way/5887599\n"
     ]
    }
   ],
   "source": [
    "api = Api()\n",
    "way = api.query('way/5887599')"
   ]
  },
  {
   "cell_type": "code",
   "execution_count": 10,
   "metadata": {
    "ExecuteTime": {
     "end_time": "2020-08-21T08:51:19.645306Z",
     "start_time": "2020-08-21T08:51:19.640306Z"
    },
    "scrolled": true
   },
   "outputs": [
    {
     "name": "stdout",
     "output_type": "stream",
     "text": [
      "<?xml version=\"1.0\" encoding=\"UTF-8\"?>\n",
      "<osm version=\"0.6\" generator=\"CGImap 0.8.3 (1507302 thorn-02.openstreetmap.org)\" copyright=\"OpenStreetMap and contributors\" attribution=\"http://www.openstreetmap.org/copyright\" license=\"http://opendatacommons.org/licenses/odbl/1-0/\">\n",
      " <way id=\"5887599\" visible=\"true\" version=\"26\" changeset=\"85691794\" timestamp=\"2020-05-24T18:55:22Z\" user=\"googlenaut\" uid=\"519916\">\n",
      "  <nd ref=\"47928327\"/>\n",
      "  <nd ref=\"3761804045\"/>\n",
      "  <nd ref=\"47928350\"/>\n",
      "  <nd ref=\"47928369\"/>\n",
      "  <nd ref=\"3761814974\"/>\n",
      "  <nd ref=\"47928376\"/>\n",
      "  <nd ref=\"47928382\"/>\n",
      "  <nd ref=\"47928403\"/>\n",
      "  <nd ref=\"47928409\"/>\n",
      "  <nd ref=\"47928414\"/>\n",
      "  <nd ref=\"47928418\"/>\n",
      "  <nd ref=\"47928429\"/>\n",
      "  <nd ref=\"47928434\"/>\n",
      "  <nd ref=\"47928440\"/>\n",
      "  <nd ref=\"3761981785\"/>\n",
      "  <nd ref=\"3761804039\"/>\n",
      "  <nd ref=\"3761981800\"/>\n",
      "  <nd ref=\"47928450\"/>\n",
      "  <nd ref=\"47928457\"/>\n",
      "  <nd ref=\"47928469\"/>\n",
      "  <nd ref=\"47928474\"/>\n",
      "  <nd ref=\"7554560371\"/>\n",
      "  <nd ref=\"2081207167\"/>\n",
      "  <nd ref=\"47928480\"/>\n",
      "  <nd ref=\"7554560372\"/>\n",
      "  <nd ref=\"2081207165\"/>\n",
      "  <nd ref=\"47928486\"/>\n",
      "  <nd ref=\"47928508\"/>\n",
      "  <nd ref=\"7554560732\"/>\n",
      "  <nd ref=\"7554560729\"/>\n",
      "  <nd ref=\"47928512\"/>\n",
      "  <nd ref=\"2081207163\"/>\n",
      "  <nd ref=\"1601118245\"/>\n",
      "  <nd ref=\"2081207159\"/>\n",
      "  <nd ref=\"47928534\"/>\n",
      "  <nd ref=\"7554560730\"/>\n",
      "  <nd ref=\"7554560731\"/>\n",
      "  <nd ref=\"47928557\"/>\n",
      "  <nd ref=\"47928561\"/>\n",
      "  <nd ref=\"2081207152\"/>\n",
      "  <nd ref=\"7554560373\"/>\n",
      "  <nd ref=\"47928566\"/>\n",
      "  <nd ref=\"47928571\"/>\n",
      "  <nd ref=\"7554560374\"/>\n",
      "  <nd ref=\"2081207149\"/>\n",
      "  <nd ref=\"47928577\"/>\n",
      "  <nd ref=\"47928587\"/>\n",
      "  <nd ref=\"47928594\"/>\n",
      "  <nd ref=\"47926207\"/>\n",
      "  <nd ref=\"3761815033\"/>\n",
      "  <nd ref=\"2081207110\"/>\n",
      "  <nd ref=\"47928251\"/>\n",
      "  <nd ref=\"47928264\"/>\n",
      "  <nd ref=\"47928284\"/>\n",
      "  <nd ref=\"47928302\"/>\n",
      "  <nd ref=\"47928323\"/>\n",
      "  <nd ref=\"47928327\"/>\n",
      "  <tag k=\"architect\" v=\"Johann Lucas von Hildebrandt\"/>\n",
      "  <tag k=\"building\" v=\"castle\"/>\n",
      "  <tag k=\"castle_type\" v=\"stately\"/>\n",
      "  <tag k=\"castle_type:de\" v=\"schloss\"/>\n",
      "  <tag k=\"description:en\" v=\"Baroque palace also housing a collection of Austrian &amp; international paintings. Highlights: Gustav Klimt’s &quot;The Kiss&quot; and &quot;Judith&quot;\"/>\n",
      "  <tag k=\"fee\" v=\"yes\"/>\n",
      "  <tag k=\"historic\" v=\"castle\"/>\n",
      "  <tag k=\"name\" v=\"Oberes Belvedere\"/>\n",
      "  <tag k=\"name:de\" v=\"Oberes Belvedere\"/>\n",
      "  <tag k=\"name:en\" v=\"Upper Belvedere\"/>\n",
      "  <tag k=\"name:es\" v=\"Alto Belvedere\"/>\n",
      "  <tag k=\"name:ja\" v=\"ベルヴェデーレ宮殿（上宮）\"/>\n",
      "  <tag k=\"name:ru\" v=\"Верхний Бельведер\"/>\n",
      "  <tag k=\"name:zh\" v=\"美景宫\"/>\n",
      "  <tag k=\"opening_hours\" v=\"Mo-Su 08:00-18:00\"/>\n",
      "  <tag k=\"operator\" v=\"Österreichische Galerie Belvedere\"/>\n",
      "  <tag k=\"toilets:wheelchair\" v=\"yes\"/>\n",
      "  <tag k=\"tourism\" v=\"museum\"/>\n",
      "  <tag k=\"website\" v=\"https://www.belvedere.at/\"/>\n",
      "  <tag k=\"wheelchair\" v=\"yes\"/>\n",
      "  <tag k=\"wikidata\" v=\"Q4884861\"/>\n",
      "  <tag k=\"wikipedia\" v=\"en:Belvedere Palace Chapel\"/>\n",
      " </way>\n",
      "</osm>\n",
      "\n"
     ]
    }
   ],
   "source": [
    "print(way.toXML())"
   ]
  },
  {
   "cell_type": "markdown",
   "metadata": {},
   "source": [
    "# number of 5 different roads"
   ]
  },
  {
   "cell_type": "code",
   "execution_count": 11,
   "metadata": {
    "ExecuteTime": {
     "end_time": "2020-08-21T08:59:53.511884Z",
     "start_time": "2020-08-21T08:59:30.562987Z"
    },
    "scrolled": true
   },
   "outputs": [
    {
     "name": "stdout",
     "output_type": "stream",
     "text": [
      "[overpass] downloading data: [timeout:100][out:json];area(3600285864)->.searchArea;(way(area.searchArea);); out body;\n"
     ]
    }
   ],
   "source": [
    "query=overpassQueryBuilder(area=city.areaId(),elementType='way')\n",
    "result=Overpass().query(query,timeout=100)"
   ]
  },
  {
   "cell_type": "code",
   "execution_count": 41,
   "metadata": {
    "ExecuteTime": {
     "end_time": "2020-08-21T13:26:19.752060Z",
     "start_time": "2020-08-21T13:26:19.747064Z"
    }
   },
   "outputs": [],
   "source": [
    "dimensions = OrderedDict([\n",
    "  ('year', dictRangeYears(2020, 2021, 1)),\n",
    "  ('city', OrderedDict({\n",
    "            'heidelberg': 'Heidelberg, Germany',\n",
    "            'karlsruhe': 'Karlsruhe, Germany'\n",
    "                          })),\n",
    "  ('typeOfRoad', OrderedDict({\n",
    "              'motorway':'motorway',\n",
    "              'trunk':'trunk',\n",
    "              'primary': 'primary',\n",
    "              'secondary':'secondary',\n",
    "              'tertiary':'tertiary',\n",
    "#       'unclassified':'unclassified',\n",
    "#       'residential':'residential'\n",
    "                          })),\n",
    "])\n",
    "# typeOfRoad: https://wiki.openstreetmap.org/wiki/Zh-hans:Key:highway"
   ]
  },
  {
   "cell_type": "code",
   "execution_count": 42,
   "metadata": {
    "ExecuteTime": {
     "end_time": "2020-08-21T13:31:06.511042Z",
     "start_time": "2020-08-21T13:26:21.803953Z"
    },
    "scrolled": true
   },
   "outputs": [
    {
     "name": "stdout",
     "output_type": "stream",
     "text": [
      "[overpass] downloading data: [timeout:60][date:\"2020-01-01T00:00:00Z\"][out:json];area(3600285864)->.searchArea;(way[\"highway\"=\"motorway\"](area.searchArea);); out count;\n",
      "[overpass] downloading data: [timeout:60][date:\"2020-01-01T00:00:00Z\"][out:json];area(3600285864)->.searchArea;(way[\"highway\"=\"trunk\"](area.searchArea);); out count;\n",
      "[overpass] waiting for 10.0 seconds\n",
      "[overpass] waiting for 10.0 more seconds\n",
      "[overpass] waiting for 10.0 more seconds\n",
      "[overpass] waiting for 10.0 more seconds\n",
      "[overpass] waiting for 10.0 more seconds\n",
      "[overpass] waiting for 1.0 more seconds\n",
      "[overpass] start processing\n",
      "[overpass] downloading data: [timeout:60][date:\"2020-01-01T00:00:00Z\"][out:json];area(3600285864)->.searchArea;(way[\"highway\"=\"primary\"](area.searchArea);); out count;\n",
      "[overpass] waiting for 8.0 seconds\n",
      "[overpass] start processing\n",
      "[overpass] downloading data: [timeout:60][date:\"2020-01-01T00:00:00Z\"][out:json];area(3600285864)->.searchArea;(way[\"highway\"=\"secondary\"](area.searchArea);); out count;\n",
      "[overpass] downloading data: [timeout:60][date:\"2020-01-01T00:00:00Z\"][out:json];area(3600285864)->.searchArea;(way[\"highway\"=\"tertiary\"](area.searchArea);); out count;\n",
      "[overpass] waiting for 10.0 seconds\n",
      "[overpass] waiting for 3.0 more seconds\n",
      "[overpass] start processing\n",
      "[overpass] downloading data: [timeout:60][date:\"2020-01-01T00:00:00Z\"][out:json];area(3600062518)->.searchArea;(way[\"highway\"=\"motorway\"](area.searchArea);); out count;\n",
      "[overpass] downloading data: [timeout:60][date:\"2020-01-01T00:00:00Z\"][out:json];area(3600062518)->.searchArea;(way[\"highway\"=\"trunk\"](area.searchArea);); out count;\n",
      "[overpass] waiting for 10.0 seconds\n",
      "[overpass] waiting for 10.0 more seconds\n",
      "[overpass] waiting for 10.0 more seconds\n",
      "[overpass] start processing\n",
      "[overpass] downloading data: [timeout:60][date:\"2020-01-01T00:00:00Z\"][out:json];area(3600062518)->.searchArea;(way[\"highway\"=\"primary\"](area.searchArea);); out count;\n",
      "[overpass] downloading data: [timeout:60][date:\"2020-01-01T00:00:00Z\"][out:json];area(3600062518)->.searchArea;(way[\"highway\"=\"secondary\"](area.searchArea);); out count;\n",
      "[overpass] waiting for 1.0 seconds\n",
      "[overpass] start processing\n",
      "[overpass] downloading data: [timeout:60][date:\"2020-01-01T00:00:00Z\"][out:json];area(3600062518)->.searchArea;(way[\"highway\"=\"tertiary\"](area.searchArea);); out count;\n",
      "[overpass] waiting for 10.0 seconds\n",
      "[overpass] waiting for 5.0 more seconds\n",
      "[overpass] start processing\n"
     ]
    }
   ],
   "source": [
    "nominatim = Nominatim()\n",
    "overpass = Overpass()\n",
    "\n",
    "def fetch(year, city, typeOfRoad):\n",
    "    areaId = nominatim.query(city).areaId()\n",
    "    query = overpassQueryBuilder(area=areaId, elementType='way', selector='\"highway\"=\"' + typeOfRoad + '\"',out='count')\n",
    "    return overpass.query(query, date=year, timeout=60).countElements()\n",
    "\n",
    "data = Data(fetch, dimensions)"
   ]
  },
  {
   "cell_type": "code",
   "execution_count": 43,
   "metadata": {
    "ExecuteTime": {
     "end_time": "2020-08-21T14:07:48.838542Z",
     "start_time": "2020-08-21T14:07:48.830542Z"
    }
   },
   "outputs": [
    {
     "data": {
      "text/plain": [
       "\n",
       "                            value\n",
       "city       typeOfRoad year       \n",
       "heidelberg motorway   2020     76\n",
       "           trunk      2020     64\n",
       "           primary    2020    539\n",
       "           secondary  2020    477\n",
       "           tertiary   2020    434\n",
       "karlsruhe  motorway   2020    150\n",
       "           trunk      2020    313\n",
       "           primary    2020   1049\n",
       "           secondary  2020   1506\n",
       "           tertiary   2020    950"
      ]
     },
     "execution_count": 43,
     "metadata": {},
     "output_type": "execute_result"
    }
   ],
   "source": [
    "data"
   ]
  },
  {
   "cell_type": "code",
   "execution_count": 38,
   "metadata": {
    "ExecuteTime": {
     "end_time": "2020-08-21T13:25:08.541655Z",
     "start_time": "2020-08-21T13:25:08.531639Z"
    }
   },
   "outputs": [],
   "source": []
  }
 ],
 "metadata": {
  "kernelspec": {
   "display_name": "Python 3",
   "language": "python",
   "name": "python3"
  },
  "language_info": {
   "codemirror_mode": {
    "name": "ipython",
    "version": 3
   },
   "file_extension": ".py",
   "mimetype": "text/x-python",
   "name": "python",
   "nbconvert_exporter": "python",
   "pygments_lexer": "ipython3",
   "version": "3.7.7"
  },
  "toc": {
   "base_numbering": 1,
   "nav_menu": {},
   "number_sections": true,
   "sideBar": true,
   "skip_h1_title": false,
   "title_cell": "Table of Contents",
   "title_sidebar": "Contents",
   "toc_cell": false,
   "toc_position": {},
   "toc_section_display": true,
   "toc_window_display": false
  },
  "varInspector": {
   "cols": {
    "lenName": 16,
    "lenType": 16,
    "lenVar": 40
   },
   "kernels_config": {
    "python": {
     "delete_cmd_postfix": "",
     "delete_cmd_prefix": "del ",
     "library": "var_list.py",
     "varRefreshCmd": "print(var_dic_list())"
    },
    "r": {
     "delete_cmd_postfix": ") ",
     "delete_cmd_prefix": "rm(",
     "library": "var_list.r",
     "varRefreshCmd": "cat(var_dic_list()) "
    }
   },
   "position": {
    "height": "707px",
    "left": "1550px",
    "right": "20px",
    "top": "120px",
    "width": "350px"
   },
   "types_to_exclude": [
    "module",
    "function",
    "builtin_function_or_method",
    "instance",
    "_Feature"
   ],
   "window_display": true
  }
 },
 "nbformat": 4,
 "nbformat_minor": 4
}
